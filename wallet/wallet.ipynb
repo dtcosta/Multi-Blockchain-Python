{
 "cells": [
  {
   "cell_type": "markdown",
   "metadata": {},
   "source": [
    "<h2>Multi-Blockchain Wallet in Python</h2>\n",
    "<h3>Importing Libraries</h3>  "
   ]
  },
  {
   "cell_type": "code",
   "execution_count": 38,
   "metadata": {},
   "outputs": [],
   "source": [
    "import subprocess \n",
    "import json\n",
    "import os\n",
    "from dotenv import load_dotenv\n",
    "from constants import *\n",
    "from bit import Key, PrivateKey, PrivateKeyTestnet\n",
    "from bit.network import NetworkAPI\n",
    "from bit import *\n",
    "from web3 import Web3\n",
    "from eth_account import Account"
   ]
  },
  {
   "cell_type": "markdown",
   "metadata": {},
   "source": [
    "<h3>Web3 Connections</h3>"
   ]
  },
  {
   "cell_type": "code",
   "execution_count": 2,
   "metadata": {},
   "outputs": [
    {
     "name": "stdout",
     "output_type": "stream",
     "text": [
      "bleak decrease opera same embrace hair fitness misery neck depart process budget\n"
     ]
    }
   ],
   "source": [
    "#Nodes runing with POW\n",
    "w3 = Web3(Web3.HTTPProvider(\"http://127.0.0.1.8545\"))\n",
    "\n",
    "# Loading EV\n",
    "load_dotenv(\"Mnemonic.env\")\n",
    "\n",
    "# Loading Mnemonic EV and (set this mnemonic as an environment variable, and include the one you generated as a fallback using)\n",
    "mnemonic = os.getenv(\"Mnemonic\")\n",
    "print(mnemonic)"
   ]
  },
  {
   "cell_type": "markdown",
   "metadata": {},
   "source": [
    "<h3>Create Functions</h3>"
   ]
  },
  {
   "cell_type": "code",
   "execution_count": 3,
   "metadata": {},
   "outputs": [],
   "source": [
    "def derive_wallets(mnemonic, coin, numderive):\n",
    "    \"\"\"Use the subprocess library to call the php file script from Python\"\"\"\n",
    "    command = f'php ./hd-wallet-derive/hd-wallet-derive.php -g --mnemonic=\"{mnemonic}\" --numderive=\"{numderive}\" --coin=\"{coin}\" --format=json' \n",
    "    \n",
    "    p = subprocess.Popen(command, stdout=subprocess.PIPE, shell=True)\n",
    "    (output, err) = p.communicate()\n",
    "   \n",
    "    keys = json.loads(output)\n",
    "    return  keys"
   ]
  },
  {
   "cell_type": "code",
   "execution_count": 4,
   "metadata": {},
   "outputs": [],
   "source": [
    "#Setting dictionary of coins to be used in the wallet\n",
    "\n",
    "coins = {\"eth\", \"btc-test\", \"btc\"}\n",
    "numderive = 3"
   ]
  },
  {
   "cell_type": "code",
   "execution_count": 5,
   "metadata": {},
   "outputs": [],
   "source": [
    "keys = {}\n",
    "for coin in coins:\n",
    "    keys[coin]= derive_wallets(os.getenv('mnemonic'), coin, numderive=3)"
   ]
  },
  {
   "cell_type": "code",
   "execution_count": 6,
   "metadata": {},
   "outputs": [
    {
     "name": "stdout",
     "output_type": "stream",
     "text": [
      "\"0x47a823eff019e920d4468ad6f250371fed8bc8639703938dbad1b8795a8c1b08\"\n",
      "\"cV2qTnb8FkWmsvBoVRqkSaX262Mcuawop2T9ttvwZVTK4w46wdhw\"\n"
     ]
    }
   ],
   "source": [
    "\n",
    "eth_PrivateKey = keys[\"eth\"][0]['privkey']\n",
    "btc_PrivateKey = keys['btc-test'][0]['privkey']\n",
    "\n",
    "\n",
    "print(json.dumps(eth_PrivateKey, indent=4, sort_keys=True))\n",
    "print(json.dumps(btc_PrivateKey, indent=4, sort_keys=True))"
   ]
  },
  {
   "cell_type": "code",
   "execution_count": 7,
   "metadata": {},
   "outputs": [
    {
     "name": "stdout",
     "output_type": "stream",
     "text": [
      "{\n",
      "    \"btc\": [\n",
      "        {\n",
      "            \"address\": \"1Kp5zkgRgv2enRjnNT966B2c3sPWhatcxi\",\n",
      "            \"index\": 0,\n",
      "            \"path\": \"m/44'/0'/0'/0/0\",\n",
      "            \"privkey\": \"KyQHh7gKE5XqHHJoZQfgnT75GNUBwdpDzdPfwKQGTAQRJJ9LdcoU\",\n",
      "            \"pubkey\": \"03982d837514d9b1766bf1734e0cc345e60b606a9677cec844a65a8702ad3e8989\",\n",
      "            \"pubkeyhash\": \"ce59fc0b5d5fb7b6ef8e96d67fc08e3774250588\",\n",
      "            \"xprv\": \"xprvA2yEnQRxChBR1v7B8Hc9muD7sMT6Vxc4vFKfavNxTWtjWw4dXuZwJe4n64bH5HFRLEer1VRNQLVnjH4CPGee9SNzMTJvDRm35YPhFd4sfie\",\n",
      "            \"xpub\": \"xpub6FxbBuxr34jiEQBeEK9A939rRPHauRKvHUFGPJna1rRiPjPn5StBrSPFwNE8ZS9efMqiqYwqwVJZL64U9c3b6g2WHyAEPnx2XTvKmVxgVBJ\"\n",
      "        },\n",
      "        {\n",
      "            \"address\": \"1KvPqCzqzR3JkfuxT14UCWuAdAU41rDpTP\",\n",
      "            \"index\": 1,\n",
      "            \"path\": \"m/44'/0'/0'/0/1\",\n",
      "            \"privkey\": \"L4C8GeapV9EDJMy6Can4y7FHw1CqouuycxKwsotkPj4ywKpaxx7s\",\n",
      "            \"pubkey\": \"033a824205eb595e7568321eaadb7875e42134d956f18017a41c49576b6a97a1d8\",\n",
      "            \"pubkeyhash\": \"cf8b5e5a8da6c57ae079b0a28d0483f672c759c6\",\n",
      "            \"xprv\": \"xprvA2yEnQRxChBR4hTuRt6jp36cCtSYWaumtXDyUFWHVEdEBHZXWs31bM2maXNMRky8Tby6waTP7sh1KTshjLdKRwhAM3u4kmrKTgjyU9v5eCA\",\n",
      "            \"xpub\": \"xpub6FxbBuxr34jiHBYNXudkBB3LkvH2v3ddFk9aGduu3aAD45tg4QMG99MFRoD1JhNddS3WskhS5AoiVDTsXNwdLK44tkFvCvcXoaSMYGcNGF5\"\n",
      "        },\n",
      "        {\n",
      "            \"address\": \"19opVP1VHYxP6bz5gFEGpH8qsGqKiJB54\",\n",
      "            \"index\": 2,\n",
      "            \"path\": \"m/44'/0'/0'/0/2\",\n",
      "            \"privkey\": \"L3t7K1aSPunn2fTwYDGGxSEgmD2HNvwLdpFd5HMT2ZvmMsaLLofM\",\n",
      "            \"pubkey\": \"02a691979728fc1616231f8eaf8bf64075cb264f72b425dbea91f2cf0850e2949e\",\n",
      "            \"pubkeyhash\": \"01aa68f8ae30312ceb9802939ce9fde0d0981a4d\",\n",
      "            \"xprv\": \"xprvA2yEnQRxChBR5mCCeXoN4rg1G7CrXYMGFjf8TXJddkLvTLUUJNbeM89wDyuKQQq34gUUk3pj4H5nuf2ABSUYbXuPWEMA9vTtdMkGW95WAVn\",\n",
      "            \"xpub\": \"xpub6FxbBuxr34jiJFGfkZLNRzcjp93Lw157cxajFuiFC5suL8ocquuttvUR5Egu6kYJuRQdafdoWo3NDGyn9ryd4DdhyCSgV1r6q8WA7jZc891\"\n",
      "        }\n",
      "    ],\n",
      "    \"btc-test\": [\n",
      "        {\n",
      "            \"address\": \"mqs3swRWNyASkUSuutLu9SqyqFqJMjUAcr\",\n",
      "            \"index\": 0,\n",
      "            \"path\": \"m/44'/1'/0'/0/0\",\n",
      "            \"privkey\": \"cV2qTnb8FkWmsvBoVRqkSaX262Mcuawop2T9ttvwZVTK4w46wdhw\",\n",
      "            \"pubkey\": \"0227584db60a55f124818abccc59196d42e413370d4211fb08f7e88faa6b9c6d45\",\n",
      "            \"pubkeyhash\": \"717e3d11a9ebea2d5423d8b520542f16962ca7ff\",\n",
      "            \"xprv\": \"tprv8kLsyFqc1G7GtcecGEgqvx1BtF5fQToZ9xtsXEUyvugVC5GU7fk675q5ATaAUtyKa41oSApwUwZaQUf1S4RSSdabffbY3zuzFq3pmL2a8qg\",\n",
      "            \"xpub\": \"tpubDH2v7fsr9dnwn5gQ9tMSLMfJTGbbZnzTjGVeokXHMBUt2ZXEk4ZgHaSwLZ8UwGjW9NvzeGM8uzwtc6JsiJmyFytHcSrMVBm8FxjQf2xXqo5\"\n",
      "        },\n",
      "        {\n",
      "            \"address\": \"mfXQ9pKdg7eu4hrP99cQtbgaDyPLMcLJL7\",\n",
      "            \"index\": 1,\n",
      "            \"path\": \"m/44'/1'/0'/0/1\",\n",
      "            \"privkey\": \"cMt84bpqfzd9w9xYWbbqhQU9Mz2c8FkDXCms5i85ewx42WwxR9sg\",\n",
      "            \"pubkey\": \"0334c523222f5fbd17adf63fb2e92d88bd4f8c84ef99208c7f7e755a1959f9c01b\",\n",
      "            \"pubkeyhash\": \"001595cc8bafa35f48b1e33dc985bfef8e1293a5\",\n",
      "            \"xprv\": \"tprv8kLsyFqc1G7GvZag6iDtX5Nhg2eU33K4eiidPj21xVjdp2WczCNcK9EZMzN57Z12kYQYgsix8giXfMYD6JUkRh2qtLfDUkXNyrqJfW3Q7vN\",\n",
      "            \"xpub\": \"tpubDH2v7fsr9dnwp2cTzMtUvV2pF4AQCNVyE2KQgF4KNmY2eWmPcbCCVdrRY9b1GdV4wPyRjGfmMHzTLdBZeEN8gsznnaTzYJeJSFbQjJL6QCr\"\n",
      "        },\n",
      "        {\n",
      "            \"address\": \"n1CwKoEtpKMrkcrAgr8veMNuA18uwsAsLy\",\n",
      "            \"index\": 2,\n",
      "            \"path\": \"m/44'/1'/0'/0/2\",\n",
      "            \"privkey\": \"cTYv21DiFh197ZaNBF82CRCeKQdiGdXNGH4QGMu139iDWNehQBsp\",\n",
      "            \"pubkey\": \"02aa49d3abaa7bb22fa8c893a2a52e9ccf373e6fbe35371480e818bde4f3bcae7f\",\n",
      "            \"pubkeyhash\": \"d7fa37fd1fa93fc78305541c781532e0691c018e\",\n",
      "            \"xprv\": \"tprv8kLsyFqc1G7Gygt4CerG8f8xu8LJGtoYkqQUX5kFg4RGA1adqAyNh7BsPwERb6hsPAzChh6mSuE3WLRigocmeCLi6mMvb1mo7ZfeSoH5CsE\",\n",
      "            \"xpub\": \"tpubDH2v7fsr9dnws9ur6JWrY4o5U9rESDzTL91FobnZ6LDezVqQTZnxsboja47ssyvZhi6c91nNQJ37uPwF3Loaeou8N3hHrq2MxyTpxBX2Jru\"\n",
      "        }\n",
      "    ],\n",
      "    \"eth\": [\n",
      "        {\n",
      "            \"address\": \"0x9d0Ae1330EbD84Ac9a2055A1AD6C92C459b6a846\",\n",
      "            \"index\": 0,\n",
      "            \"path\": \"m/44'/60'/0'/0/0\",\n",
      "            \"privkey\": \"0x47a823eff019e920d4468ad6f250371fed8bc8639703938dbad1b8795a8c1b08\",\n",
      "            \"pubkey\": \"0241cd2fc589b227b23f949a2ede78f062b65bacdfb3a0c5c0c21a459d6226afb1\",\n",
      "            \"pubkeyhash\": \"82cf79134a6077c1e16a69e43bbab56ed36ec511\",\n",
      "            \"xprv\": \"xprvA3r6VxkP15qqsMhMpbdmNJryquaR4eupDwB3jtivS2SfMwpeboufbZmeoeamHFJKfUaW6GsRtH5QnZWgT2tSpSxCXWchY5sR3CLR2S6LVWc\",\n",
      "            \"xpub\": \"xpub6GqSuUHGqTQ95qmpvdAmjSoiPwQuU7dfbA6eYH8XzMyeEk9o9MDv9N68euZxA65VRQfgUyztdyunoYBoWcHVexMKLFZGPJWxKPyuPdQYbsn\"\n",
      "        },\n",
      "        {\n",
      "            \"address\": \"0xc194fcfaF0F8122a75E302Ab6e3ADa0Bf8B66412\",\n",
      "            \"index\": 1,\n",
      "            \"path\": \"m/44'/60'/0'/0/1\",\n",
      "            \"privkey\": \"0xa94c93730a95f050de95ae99dae4852e880000e1c2ae0dc73cef9ca443ffcba9\",\n",
      "            \"pubkey\": \"035683711f61313f7564b1b43618095a936e700c1601d4b24a5b4cab863cfbbe37\",\n",
      "            \"pubkeyhash\": \"34e7aa6ee0edd4f3876958e559674fe656b98a6c\",\n",
      "            \"xprv\": \"xprvA3r6VxkP15qqtwfxGFWeHnabBKyDPMrPKwXKKuDPM8wrdWuoiGLnvH5XuNndyLLFJgQfTPzDGMu9YEojARTPG5jvfZvDDY76wsgpMqHbNKW\",\n",
      "            \"xpub\": \"xpub6GqSuUHGqTQ97RkRNH3eevXKjMohnpaEhASv8HczuUUqWKExFof3U5Q1kf8gwZJPwggZXAFErjZsE9dzAHutuVKmCtzLT7jEjRgLkKGfhBb\"\n",
      "        },\n",
      "        {\n",
      "            \"address\": \"0x9Ab9682a9fc033BbBe75492a5243D2F02c73C553\",\n",
      "            \"index\": 2,\n",
      "            \"path\": \"m/44'/60'/0'/0/2\",\n",
      "            \"privkey\": \"0xcaef75447eea32cdb20b0119c347eb465570238e10ef6c36d6366be1d5ea5879\",\n",
      "            \"pubkey\": \"02ce0dbdcd5884b53f617c1319bea38dc4195c76945984c904e622c3f456c423ae\",\n",
      "            \"pubkeyhash\": \"030e60e5e5ff724a15cd99bec0e4fd4eb668bd49\",\n",
      "            \"xprv\": \"xprvA3r6VxkP15qqxqNaG1J4HAxyEvJzN2jPGKm8KHy1qnDBPBYPiU4wswEcQtW1mp93fC39JXueDHxpnErLqzZeTnYpdxoJPYg38mJzJRLy9vH\",\n",
      "            \"xpub\": \"xpub6GqSuUHGqTQ9BKT3N2q4eJuhnx9UmVTEdYgj7gNdQ7kAFysYG1PCRjZ6G9Z9sJg5JQVcJugNYPn2rtGzGDSTT5D2ajPUC7Jgr2LBmQSjxGs\"\n",
      "        }\n",
      "    ]\n",
      "}\n"
     ]
    }
   ],
   "source": [
    "print(json.dumps(keys, indent=4, sort_keys=True))"
   ]
  },
  {
   "cell_type": "code",
   "execution_count": 8,
   "metadata": {},
   "outputs": [],
   "source": [
    "def priv_key_to_account(coin, priv_key):\n",
    "    \"\"\"Convert the privkey string in a child key to an account object that bit or web3.py can use to transact\"\"\"\n",
    "    if coin == ETH:\n",
    "        return Account.privateKeyToAccount(priv_key)\n",
    "    if coin == BTCTEST:\n",
    "        return PrivateKeyTestnet(priv_key)\n",
    "    \n",
    "eth_acc = priv_key_to_account(ETH,eth_PrivateKey)\n",
    "btc_acc = priv_key_to_account(BTCTEST,btc_PrivateKey)"
   ]
  },
  {
   "cell_type": "code",
   "execution_count": 9,
   "metadata": {},
   "outputs": [
    {
     "name": "stdout",
     "output_type": "stream",
     "text": [
      "<eth_account.signers.local.LocalAccount object at 0x000001F5AC449F48>\n",
      "<PrivateKeyTestnet: mqs3swRWNyASkUSuutLu9SqyqFqJMjUAcr>\n"
     ]
    }
   ],
   "source": [
    "print(eth_acc)\n",
    "print(btc_acc)"
   ]
  },
  {
   "cell_type": "code",
   "execution_count": 23,
   "metadata": {},
   "outputs": [],
   "source": [
    "def create_trx(coin, account, recipient, amount):\n",
    "    \"\"\"create the raw, unsigned transaction that contains all metadata needed to transact\"\"\"\n",
    "    global trx_data\n",
    "    if coin ==ETH:\n",
    "        gasEstimate = w3.eth.estimateGas(\n",
    "            {\"from\": account.address, \"to\": recipient, \"value\": amount}\n",
    "        )\n",
    "        trx_data = {\n",
    "            \"to\": recipient,\n",
    "            \"from\": account.address,\n",
    "            \"value\": amount,\n",
    "            \"gasPrice\": w3.eth.gasPrice,\n",
    "            \"gas\": gasEstimate,\n",
    "            \"nonce\": w3.eth.getTransactionCount(account.address)\n",
    "        }\n",
    "        return trx_data\n",
    "\n",
    "    if coin == BTCTEST:\n",
    "        return PrivateKeyTestnet.prepare_transaction(account.address, [(recipient, amount, BTC)])"
   ]
  },
  {
   "cell_type": "code",
   "execution_count": 24,
   "metadata": {},
   "outputs": [],
   "source": [
    "def send_trx(coin, account, recipient, amount):\n",
    "    \"\"\"call create_trx, sign the transaction, then send it to the designated network\"\"\"\n",
    "    if coin == \"eth\": \n",
    "        trx_eth = create_trx(coin,account, recipient, amount)\n",
    "        sign = account.signTransaction(trx_eth)\n",
    "        result = w3.eth.sendRawTransaction(sign.rawTransaction)\n",
    "        print(result.hex())\n",
    "        return result.hex()\n",
    "    else:\n",
    "        trx_btctest= create_trx(coin,account,recipient,amount)\n",
    "        sign_trx_btctest = account.sign_transaction(trx_btctest)\n",
    "        from bit.network import NetworkAPI\n",
    "        NetworkAPI.broadcast_tx_testnet(sign_trx_btctest)       \n",
    "        return sign_trx_btctest"
   ]
  },
  {
   "cell_type": "markdown",
   "metadata": {},
   "source": [
    "<h3>Create Transactions</h3>\n",
    "<h3>BTC Transaction</h3>"
   ]
  },
  {
   "cell_type": "code",
   "execution_count": 32,
   "metadata": {},
   "outputs": [
    {
     "data": {
      "text/plain": [
       "'{\"unspents\":[{\"amount\":80000,\"confirmations\":0,\"script\":\"76a914717e3d11a9ebea2d5423d8b520542f16962ca7ff88ac\",\"txid\":\"54c1bef046429ab830c4ed463e1992675f92da4f4b40fd4c3a1dc7518a4a6e65\",\"txindex\":0,\"type\":\"p2pkh\",\"vsize\":148,\"segwit\":false,\"sequence\":4294967295}],\"outputs\":[[\"mqs3swRWNyASkUSuutLu9SqyqFqJMjUAcr\",1000],[\"mqs3swRWNyASkUSuutLu9SqyqFqJMjUAcr\",55948]]}'"
      ]
     },
     "execution_count": 32,
     "metadata": {},
     "output_type": "execute_result"
    }
   ],
   "source": [
    "# create BTC transaction\n",
    "create_trx(BTCTEST,btc_acc,\"mqs3swRWNyASkUSuutLu9SqyqFqJMjUAcr\", 0.00001)"
   ]
  },
  {
   "cell_type": "code",
   "execution_count": 34,
   "metadata": {},
   "outputs": [
    {
     "data": {
      "text/plain": [
       "'0100000001656e4a8a51c71d3a4cfd404b4fda925f6792193e46edc430b89a4246f0bec154000000006b4830450221009ff192c697fade764e5af78a79476c36d82f9d8faac4324637edf9c2f94915f602205f183a684fa460acaedd9c09763d66305206dd2f29befa887ac4e831754ffe7901210227584db60a55f124818abccc59196d42e413370d4211fb08f7e88faa6b9c6d45ffffffff0210270000000000001976a914717e3d11a9ebea2d5423d8b520542f16962ca7ff88ac64b70000000000001976a914717e3d11a9ebea2d5423d8b520542f16962ca7ff88ac00000000'"
      ]
     },
     "execution_count": 34,
     "metadata": {},
     "output_type": "execute_result"
    }
   ],
   "source": [
    "#send BTC transaction\n",
    "send_trx(BTCTEST,btc_acc,'mqs3swRWNyASkUSuutLu9SqyqFqJMjUAcr',0.0001)"
   ]
  },
  {
   "cell_type": "markdown",
   "metadata": {},
   "source": [
    "<h3>ETH Transaction</h3>"
   ]
  },
  {
   "cell_type": "code",
   "execution_count": 25,
   "metadata": {},
   "outputs": [
    {
     "data": {
      "text/plain": [
       "True"
      ]
     },
     "execution_count": 25,
     "metadata": {},
     "output_type": "execute_result"
    }
   ],
   "source": [
    "from web3.middleware import geth_poa_middleware\n",
    "w3.middleware_onion.inject(geth_poa_middleware, layer=0)\n",
    "from web3 import Web3, HTTPProvider\n",
    "w3 = Web3(Web3.HTTPProvider(\"http://127.0.0.1:8545/0x47a823eff019e920d4468ad6f250371fed8bc8639703938dbad1b8795a8c1b08\"))\n",
    "w3.isConnected()"
   ]
  },
  {
   "cell_type": "code",
   "execution_count": 40,
   "metadata": {},
   "outputs": [
    {
     "data": {
      "text/plain": [
       "3999159999999999989"
      ]
     },
     "execution_count": 40,
     "metadata": {},
     "output_type": "execute_result"
    }
   ],
   "source": [
    "w3.eth.getBalance(\"0x9d0Ae1330EbD84Ac9a2055A1AD6C92C459b6a846\")"
   ]
  },
  {
   "cell_type": "code",
   "execution_count": 41,
   "metadata": {},
   "outputs": [
    {
     "data": {
      "text/plain": [
       "{'to': '0x35031eDcF3e4932f9B8AA6067cd8E562F5c863Cf',\n",
       " 'from': '0x9d0Ae1330EbD84Ac9a2055A1AD6C92C459b6a846',\n",
       " 'value': 100,\n",
       " 'gasPrice': 20000000000,\n",
       " 'gas': 21000,\n",
       " 'nonce': 2}"
      ]
     },
     "execution_count": 41,
     "metadata": {},
     "output_type": "execute_result"
    }
   ],
   "source": [
    "create_trx(ETH,eth_acc,\"0x35031eDcF3e4932f9B8AA6067cd8E562F5c863Cf\", 100)"
   ]
  },
  {
   "cell_type": "code",
   "execution_count": 42,
   "metadata": {},
   "outputs": [
    {
     "name": "stdout",
     "output_type": "stream",
     "text": [
      "0x7687ec7ffafa04aed021b089abf2dfd0a9344997d70301aaa9fecf12d0c78bf1\n"
     ]
    },
    {
     "data": {
      "text/plain": [
       "'0x7687ec7ffafa04aed021b089abf2dfd0a9344997d70301aaa9fecf12d0c78bf1'"
      ]
     },
     "execution_count": 42,
     "metadata": {},
     "output_type": "execute_result"
    }
   ],
   "source": [
    "send_trx(ETH, eth_acc,\"0x35031eDcF3e4932f9B8AA6067cd8E562F5c863Cf\", 100)"
   ]
  },
  {
   "cell_type": "markdown",
   "metadata": {},
   "source": [
    "<h3>Verification of ETH Transaction</h3>"
   ]
  },
  {
   "cell_type": "code",
   "execution_count": 43,
   "metadata": {},
   "outputs": [
    {
     "data": {
      "text/plain": [
       "3998739999999999889"
      ]
     },
     "execution_count": 43,
     "metadata": {},
     "output_type": "execute_result"
    }
   ],
   "source": [
    "w3.eth.getBalance(\"0x9d0Ae1330EbD84Ac9a2055A1AD6C92C459b6a846\")"
   ]
  },
  {
   "cell_type": "markdown",
   "metadata": {},
   "source": [
    "<h3>Nice!</h3>"
   ]
  },
  {
   "cell_type": "code",
   "execution_count": null,
   "metadata": {},
   "outputs": [],
   "source": []
  }
 ],
 "metadata": {
  "kernelspec": {
   "display_name": "Python 3",
   "language": "python",
   "name": "python3"
  },
  "language_info": {
   "codemirror_mode": {
    "name": "ipython",
    "version": 3
   },
   "file_extension": ".py",
   "mimetype": "text/x-python",
   "name": "python",
   "nbconvert_exporter": "python",
   "pygments_lexer": "ipython3",
   "version": "3.7.9"
  }
 },
 "nbformat": 4,
 "nbformat_minor": 4
}
